{
 "cells": [
  {
   "cell_type": "code",
   "execution_count": 1,
   "metadata": {},
   "outputs": [],
   "source": [
    "from split_image import split_image\n",
    "image_path = r'/Dataset/Glasgow/glasgow.jpg'\n",
    "split_image(image_path, 6, 10, False, False)"
   ]
  },
  {
   "cell_type": "code",
   "execution_count": 2,
   "metadata": {},
   "outputs": [],
   "source": [
    "import os\n",
    "import shutil\n",
    "import random\n",
    "\n",
    "# Set the paths to your images folder and your output folder\n",
    "images_folder = r\"/Dataset/Glasgow/split_data\"\n",
    "output_folder = r\"/Dataset/Glasgow/images\"\n",
    "\n",
    "# Set the split ratio between train and validation sets (e.g. 0.5 for 50% train, 50% validation)\n",
    "split_ratio = 0.5\n",
    "\n",
    "# Create the output folders if they don't exist\n",
    "train_folder = os.path.join(output_folder, \"train\")\n",
    "os.makedirs(train_folder, exist_ok=True)\n",
    "val_folder = os.path.join(output_folder, \"validation\")\n",
    "os.makedirs(val_folder, exist_ok=True)\n",
    "\n",
    "# Shuffle the image files randomly\n",
    "image_files = os.listdir(images_folder)\n",
    "random.seed(101)\n",
    "random.shuffle(image_files)\n",
    "\n",
    "# Split the image files into train and validation sets\n",
    "split_index = int(len(image_files) * split_ratio)\n",
    "train_files = image_files[:split_index]\n",
    "val_files = image_files[split_index:]\n",
    "\n",
    "# Copy the image files to the appropriate destination folders\n",
    "for train_file in train_files:\n",
    "    source_path = os.path.join(images_folder, train_file)\n",
    "    destination_path = os.path.join(train_folder, train_file)\n",
    "    shutil.copyfile(source_path, destination_path)\n",
    "\n",
    "for val_file in val_files:\n",
    "    source_path = os.path.join(images_folder, val_file)\n",
    "    destination_path = os.path.join(val_folder, val_file)\n",
    "    shutil.copyfile(source_path, destination_path)\n"
   ]
  },
  {
   "cell_type": "code",
   "execution_count": null,
   "metadata": {},
   "outputs": [],
   "source": []
  }
 ],
 "metadata": {
  "kernelspec": {
   "display_name": ".venv",
   "language": "python",
   "name": "python3"
  },
  "language_info": {
   "codemirror_mode": {
    "name": "ipython",
    "version": 3
   },
   "file_extension": ".py",
   "mimetype": "text/x-python",
   "name": "python",
   "nbconvert_exporter": "python",
   "pygments_lexer": "ipython3",
   "version": "3.8.12"
  },
  "orig_nbformat": 4
 },
 "nbformat": 4,
 "nbformat_minor": 2
}
