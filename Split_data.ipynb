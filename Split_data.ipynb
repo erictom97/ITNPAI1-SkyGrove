{
 "cells": [
  {
   "cell_type": "code",
   "execution_count": 2,
   "metadata": {},
   "outputs": [],
   "source": [
    "import os\n",
    "import random\n",
    "import shutil\n",
    "\n",
    "# Define the percentage of data to use for training and validation\n",
    "train_percentage = 0.5\n",
    "\n",
    "# Set the paths to your image and annotation folders\n",
    "image_folder = \"/Users/erictommathews/Documents/Eric/Msc Artificial Intelligence - Stirling/Semester 3 Spring/Deep Learning/Assignment/ITNPAI1-SkyGrove/Dataset/Stirling/images and labels/images\"\n",
    "annotation_folder = \"/Users/erictommathews/Documents/Eric/Msc Artificial Intelligence - Stirling/Semester 3 Spring/Deep Learning/Assignment/ITNPAI1-SkyGrove/Dataset/Stirling/images and labels/labels\"\n",
    "\n",
    "# Set the paths to your train and validation folders\n",
    "train_folder = \"/Users/erictommathews/Documents/Eric/Msc Artificial Intelligence - Stirling/Semester 3 Spring/Deep Learning/Assignment/ITNPAI1-SkyGrove/Dataset/Stirling/images and labels/train\"\n",
    "val_folder = \"/Users/erictommathews/Documents/Eric/Msc Artificial Intelligence - Stirling/Semester 3 Spring/Deep Learning/Assignment/ITNPAI1-SkyGrove/Dataset/Stirling/images and labels/validation\"\n",
    "\n",
    "# Create the train and validation folders\n",
    "if not os.path.exists(train_folder):\n",
    "    os.makedirs(train_folder)\n",
    "if not os.path.exists(val_folder):\n",
    "    os.makedirs(val_folder)\n",
    "\n",
    "# Get the list of image files in the image folder\n",
    "image_files = os.listdir(image_folder)\n",
    "num_images = len(image_files)\n",
    "\n",
    "# Randomly shuffle the image files\n",
    "random.seed(200)\n",
    "random.shuffle(image_files)\n",
    "\n",
    "# Split the image files into train and validation sets\n",
    "num_train = int(num_images * train_percentage)\n",
    "train_images = image_files[:num_train]\n",
    "val_images = image_files[num_train:]\n",
    "\n",
    "# Copy the train images and annotations to the train folder\n",
    "for image_file in train_images:\n",
    "    # Copy the image file to the train folder\n",
    "    shutil.copy(os.path.join(image_folder, image_file), train_folder)\n",
    "    # Copy the annotation file to the train folder\n",
    "    shutil.copy(os.path.join(annotation_folder, os.path.splitext(image_file)[0] + \".txt\"), train_folder)\n",
    "\n",
    "# Copy the validation images and annotations to the validation folder\n",
    "for image_file in val_images:\n",
    "    # Copy the image file to the validation folder\n",
    "    shutil.copy(os.path.join(image_folder, image_file), val_folder)\n",
    "    # Copy the annotation file to the validation folder\n",
    "    shutil.copy(os.path.join(annotation_folder, os.path.splitext(image_file)[0] + \".txt\"), val_folder)\n"
   ]
  },
  {
   "cell_type": "code",
   "execution_count": null,
   "metadata": {},
   "outputs": [],
   "source": []
  }
 ],
 "metadata": {
  "kernelspec": {
   "display_name": "Python 3",
   "language": "python",
   "name": "python3"
  },
  "language_info": {
   "codemirror_mode": {
    "name": "ipython",
    "version": 3
   },
   "file_extension": ".py",
   "mimetype": "text/x-python",
   "name": "python",
   "nbconvert_exporter": "python",
   "pygments_lexer": "ipython3",
   "version": "3.8.12"
  },
  "orig_nbformat": 4
 },
 "nbformat": 4,
 "nbformat_minor": 2
}
