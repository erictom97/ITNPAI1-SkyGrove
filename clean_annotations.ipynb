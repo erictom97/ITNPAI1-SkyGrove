{
 "cells": [
  {
   "cell_type": "code",
   "execution_count": 1,
   "metadata": {},
   "outputs": [],
   "source": [
    "import os\n",
    "from pycocotools.coco import COCO\n",
    "import shutil"
   ]
  },
  {
   "cell_type": "code",
   "execution_count": 5,
   "metadata": {},
   "outputs": [
    {
     "name": "stdout",
     "output_type": "stream",
     "text": [
      "loading annotations into memory...\n",
      "Done (t=0.01s)\n",
      "creating index...\n",
      "index created!\n"
     ]
    }
   ],
   "source": [
    "# Initialize COCO annotation file path and image directory path\n",
    "anno_file = '/Users/erictommathews/Documents/Eric/Msc Artificial Intelligence - Stirling/Semester 3 Spring/Deep Learning/ITNPAI1-SkyGrove-test/Dataset/Glasgow/split_data/instances_default.json'\n",
    "img_dir = '/Users/erictommathews/Documents/Eric/Msc Artificial Intelligence - Stirling/Semester 3 Spring/Deep Learning/ITNPAI1-SkyGrove-test/Dataset/Glasgow/split_data'\n",
    "\n",
    "# Initialize train and validation directory paths\n",
    "train_dir = '/Users/erictommathews/Documents/Eric/Msc Artificial Intelligence - Stirling/Semester 3 Spring/Deep Learning/ITNPAI1-SkyGrove-test/Dataset/Glasgow/split_data/train'\n",
    "val_dir = '/Users/erictommathews/Documents/Eric/Msc Artificial Intelligence - Stirling/Semester 3 Spring/Deep Learning/ITNPAI1-SkyGrove-test/Dataset/Glasgow/split_data/validation'\n",
    "\n",
    "# Load COCO annotation file\n",
    "coco = COCO(anno_file)\n",
    "\n",
    "# Get all image IDs\n",
    "img_ids = coco.getImgIds()"
   ]
  },
  {
   "cell_type": "code",
   "execution_count": 6,
   "metadata": {},
   "outputs": [],
   "source": [
    "\n",
    "\n",
    "# Create train and validation directories if they don't exist\n",
    "os.makedirs(train_dir, exist_ok=True)\n",
    "os.makedirs(val_dir, exist_ok=True)"
   ]
  },
  {
   "cell_type": "code",
   "execution_count": 7,
   "metadata": {},
   "outputs": [],
   "source": [
    "# Remove the IDs of the images that are not annotated\n",
    "ann_img_ids = set(coco.getImgIds())\n",
    "img_ids = set(img_ids)\n",
    "unann_img_ids = img_ids - ann_img_ids\n",
    "for img_id in unann_img_ids:\n",
    "    img_info = coco.loadImgs(ids=[img_id])[0]\n",
    "    img_filename = img_info['file_name']\n",
    "    img_path = os.path.join(img_dir, img_filename)\n",
    "    if os.path.exists(img_path):\n",
    "        os.remove(img_path)"
   ]
  },
  {
   "cell_type": "code",
   "execution_count": 8,
   "metadata": {},
   "outputs": [],
   "source": [
    "# Calculate number of images for train and validation sets\n",
    "train_count = int(0.5 * len(ann_img_ids))\n",
    "val_count = len(ann_img_ids) - train_count"
   ]
  },
  {
   "cell_type": "code",
   "execution_count": 9,
   "metadata": {},
   "outputs": [],
   "source": [
    "# Shuffle annotated image IDs\n",
    "import random\n",
    "random.seed(42)\n",
    "ann_img_ids = list(ann_img_ids)\n",
    "random.shuffle(ann_img_ids)"
   ]
  },
  {
   "cell_type": "code",
   "execution_count": 10,
   "metadata": {},
   "outputs": [],
   "source": [
    "# Copy images to train and validation directories and update annotation files\n",
    "train_ann = {\"images\": [], \"annotations\": [], \"categories\": coco.dataset[\"categories\"]}\n",
    "val_ann = {\"images\": [], \"annotations\": [], \"categories\": coco.dataset[\"categories\"]}\n",
    "for i, img_id in enumerate(ann_img_ids):\n",
    "    img_info = coco.loadImgs(ids=[img_id])[0]\n",
    "    img_filename = img_info['file_name']\n",
    "    img_path = os.path.join(img_dir, img_filename)\n",
    "    if os.path.exists(img_path):\n",
    "        if i < train_count:\n",
    "            shutil.copy(img_path, os.path.join(train_dir, img_filename))\n",
    "            anns = coco.imgToAnns[img_id]\n",
    "            for ann in anns:\n",
    "                ann[\"image_id\"] = len(train_ann[\"images\"])\n",
    "                train_ann[\"annotations\"].append(ann)\n",
    "            train_ann[\"images\"].append(img_info)\n",
    "        else:\n",
    "            shutil.copy(img_path, os.path.join(val_dir, img_filename))\n",
    "            anns = coco.imgToAnns[img_id]\n",
    "            for ann in anns:\n",
    "                ann[\"image_id\"] = len(val_ann[\"images\"])\n",
    "                val_ann[\"annotations\"].append(ann)\n",
    "            val_ann[\"images\"].append(img_info)"
   ]
  },
  {
   "cell_type": "code",
   "execution_count": 11,
   "metadata": {},
   "outputs": [],
   "source": [
    "import json\n",
    "\n",
    "# Save train and validation annotation files\n",
    "with open(os.path.join(train_dir, 'annotations.json'), 'w') as f:\n",
    "    json.dump(train_ann, f)\n",
    "with open(os.path.join(val_dir, 'annotations.json'), 'w') as f:\n",
    "    json.dump(val_ann, f)\n"
   ]
  },
  {
   "cell_type": "code",
   "execution_count": null,
   "metadata": {},
   "outputs": [],
   "source": []
  }
 ],
 "metadata": {
  "kernelspec": {
   "display_name": ".Stir_Ai_env",
   "language": "python",
   "name": "python3"
  },
  "language_info": {
   "codemirror_mode": {
    "name": "ipython",
    "version": 3
   },
   "file_extension": ".py",
   "mimetype": "text/x-python",
   "name": "python",
   "nbconvert_exporter": "python",
   "pygments_lexer": "ipython3",
   "version": "3.9.7"
  },
  "orig_nbformat": 4
 },
 "nbformat": 4,
 "nbformat_minor": 2
}
