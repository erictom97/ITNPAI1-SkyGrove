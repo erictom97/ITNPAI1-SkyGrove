{
 "cells": [
  {
   "cell_type": "code",
   "execution_count": 6,
   "metadata": {},
   "outputs": [],
   "source": [
    "import cv2\n",
    "import numpy as np\n",
    "import os\n",
    "\n",
    "\n",
    "# Define the path to the image folder\n",
    "img_folder_path = \"/Users/erictommathews/Documents/Eric/Msc Artificial Intelligence - Stirling/Semester 3 Spring/Deep Learning/Assignment/ITNPAI1-SkyGrove/Dataset/Stirling/Original_Images\"\n",
    "resize_path = '/Users/erictommathews/Documents/Eric/Msc Artificial Intelligence - Stirling/Semester 3 Spring/Deep Learning/Assignment/ITNPAI1-SkyGrove/Dataset/Stirling/Resized'\n",
    "# Define the maximum size of the image\n",
    "max_size = 1024  # in pixels\n",
    "\n",
    "# Loop over the images in the image folder\n",
    "for img_name in os.listdir(img_folder_path):\n",
    "    if img_name[-3:] == 'jpg':\n",
    "        # Load the image\n",
    "        img_path = os.path.join(img_folder_path, img_name)\n",
    "        img = cv2.imread(img_path)\n",
    "\n",
    "        # Compute the scaling factor\n",
    "        scale_factor = max_size / max(img.shape[:2])\n",
    "\n",
    "        # Resize the image\n",
    "        img_resized = cv2.resize(img, (int(img.shape[1] * scale_factor), int(img.shape[0] * scale_factor)))\n",
    "\n",
    "        # Save the resized image\n",
    "        img_resized_path = os.path.join(resize_path, os.path.splitext(img_name)[0] + \"_resized.jpg\")\n",
    "        cv2.imwrite(img_resized_path, img_resized)"
   ]
  },
  {
   "cell_type": "code",
   "execution_count": null,
   "metadata": {},
   "outputs": [],
   "source": []
  }
 ],
 "metadata": {
  "kernelspec": {
   "display_name": "Python 3",
   "language": "python",
   "name": "python3"
  },
  "language_info": {
   "codemirror_mode": {
    "name": "ipython",
    "version": 3
   },
   "file_extension": ".py",
   "mimetype": "text/x-python",
   "name": "python",
   "nbconvert_exporter": "python",
   "pygments_lexer": "ipython3",
   "version": "3.8.12"
  },
  "orig_nbformat": 4
 },
 "nbformat": 4,
 "nbformat_minor": 2
}
