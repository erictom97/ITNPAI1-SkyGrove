{
 "cells": [
  {
   "cell_type": "code",
   "execution_count": 3,
   "metadata": {},
   "outputs": [
    {
     "ename": "AttributeError",
     "evalue": "'NoneType' object has no attribute 'shape'",
     "output_type": "error",
     "traceback": [
      "\u001b[0;31m---------------------------------------------------------------------------\u001b[0m",
      "\u001b[0;31mAttributeError\u001b[0m                            Traceback (most recent call last)",
      "\u001b[1;32m/Users/erictommathews/Documents/Eric/Msc Artificial Intelligence - Stirling/Semester 3 Spring/Deep Learning/Assignment/ITNPAI1-SkyGrove/Resize_images.ipynb Cell 1\u001b[0m in \u001b[0;36m<cell line: 13>\u001b[0;34m()\u001b[0m\n\u001b[1;32m     <a href='vscode-notebook-cell:/Users/erictommathews/Documents/Eric/Msc%20Artificial%20Intelligence%20-%20Stirling/Semester%203%20Spring/Deep%20Learning/Assignment/ITNPAI1-SkyGrove/Resize_images.ipynb#W0sZmlsZQ%3D%3D?line=15'>16</a>\u001b[0m img \u001b[39m=\u001b[39m cv2\u001b[39m.\u001b[39mimread(img_path)\n\u001b[1;32m     <a href='vscode-notebook-cell:/Users/erictommathews/Documents/Eric/Msc%20Artificial%20Intelligence%20-%20Stirling/Semester%203%20Spring/Deep%20Learning/Assignment/ITNPAI1-SkyGrove/Resize_images.ipynb#W0sZmlsZQ%3D%3D?line=17'>18</a>\u001b[0m \u001b[39m# Compute the scaling factor\u001b[39;00m\n\u001b[0;32m---> <a href='vscode-notebook-cell:/Users/erictommathews/Documents/Eric/Msc%20Artificial%20Intelligence%20-%20Stirling/Semester%203%20Spring/Deep%20Learning/Assignment/ITNPAI1-SkyGrove/Resize_images.ipynb#W0sZmlsZQ%3D%3D?line=18'>19</a>\u001b[0m scale_factor \u001b[39m=\u001b[39m max_size \u001b[39m/\u001b[39m \u001b[39mmax\u001b[39m(img\u001b[39m.\u001b[39;49mshape[:\u001b[39m2\u001b[39m])\n\u001b[1;32m     <a href='vscode-notebook-cell:/Users/erictommathews/Documents/Eric/Msc%20Artificial%20Intelligence%20-%20Stirling/Semester%203%20Spring/Deep%20Learning/Assignment/ITNPAI1-SkyGrove/Resize_images.ipynb#W0sZmlsZQ%3D%3D?line=20'>21</a>\u001b[0m \u001b[39m# Resize the image\u001b[39;00m\n\u001b[1;32m     <a href='vscode-notebook-cell:/Users/erictommathews/Documents/Eric/Msc%20Artificial%20Intelligence%20-%20Stirling/Semester%203%20Spring/Deep%20Learning/Assignment/ITNPAI1-SkyGrove/Resize_images.ipynb#W0sZmlsZQ%3D%3D?line=21'>22</a>\u001b[0m img_resized \u001b[39m=\u001b[39m cv2\u001b[39m.\u001b[39mresize(img, (\u001b[39mint\u001b[39m(img\u001b[39m.\u001b[39mshape[\u001b[39m1\u001b[39m] \u001b[39m*\u001b[39m scale_factor), \u001b[39mint\u001b[39m(img\u001b[39m.\u001b[39mshape[\u001b[39m0\u001b[39m] \u001b[39m*\u001b[39m scale_factor)))\n",
      "\u001b[0;31mAttributeError\u001b[0m: 'NoneType' object has no attribute 'shape'"
     ]
    }
   ],
   "source": [
    "import cv2\n",
    "import numpy as np\n",
    "import os\n",
    "\n",
    "\n",
    "# Define the path to the image folder\n",
    "img_folder_path = \"/Users/erictommathews/Documents/Eric/Msc Artificial Intelligence - Stirling/Semester 3 Spring/Deep Learning/Assignment/ITNPAI1-SkyGrove/Dataset/Stirling/Original_Images\"\n",
    "resize_path = '/Users/erictommathews/Documents/Eric/Msc Artificial Intelligence - Stirling/Semester 3 Spring/Deep Learning/Assignment/ITNPAI1-SkyGrove/Dataset/Stirling/Resized'\n",
    "# Define the maximum size of the image\n",
    "max_size = 1024  # in pixels\n",
    "\n",
    "# Loop over the images in the image folder\n",
    "for img_name in os.listdir(img_folder_path):\n",
    "    print(img_name)\n",
    "    # Load the image\n",
    "    img_path = os.path.join(img_folder_path, img_name)\n",
    "    img = cv2.imread(img_path)\n",
    "\n",
    "    # Compute the scaling factor\n",
    "    scale_factor = max_size / max(img.shape[:2])\n",
    "\n",
    "    # Resize the image\n",
    "    img_resized = cv2.resize(img, (int(img.shape[1] * scale_factor), int(img.shape[0] * scale_factor)))\n",
    "\n",
    "    # Save the resized image\n",
    "    img_resized_path = os.path.join(resize_path, os.path.splitext(img_name)[0] + \"_resized.jpg\")\n",
    "    cv2.imwrite(img_resized_path, img_resized)"
   ]
  },
  {
   "cell_type": "code",
   "execution_count": 2,
   "metadata": {},
   "outputs": [
    {
     "name": "stdout",
     "output_type": "stream",
     "text": [
      "Collecting opencv-python\n",
      "  Downloading opencv_python-4.7.0.72-cp37-abi3-macosx_10_16_x86_64.whl (53.9 MB)\n",
      "\u001b[K     |████████████████████████████████| 53.9 MB 362 kB/s eta 0:00:01\n",
      "\u001b[?25hRequirement already satisfied: numpy>=1.17.0 in /Users/erictommathews/Softwares/Anaconda/anaconda3/envs/AIenv/lib/python3.8/site-packages (from opencv-python) (1.22.4)\n",
      "Installing collected packages: opencv-python\n",
      "Successfully installed opencv-python-4.7.0.72\n"
     ]
    }
   ],
   "source": [
    "!pip install opencv-python"
   ]
  },
  {
   "cell_type": "code",
   "execution_count": null,
   "metadata": {},
   "outputs": [],
   "source": []
  }
 ],
 "metadata": {
  "kernelspec": {
   "display_name": "Python 3",
   "language": "python",
   "name": "python3"
  },
  "language_info": {
   "codemirror_mode": {
    "name": "ipython",
    "version": 3
   },
   "file_extension": ".py",
   "mimetype": "text/x-python",
   "name": "python",
   "nbconvert_exporter": "python",
   "pygments_lexer": "ipython3",
   "version": "3.8.12"
  },
  "orig_nbformat": 4
 },
 "nbformat": 4,
 "nbformat_minor": 2
}
